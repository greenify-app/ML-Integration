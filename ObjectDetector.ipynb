{
 "cells": [
  {
   "attachments": {},
   "cell_type": "markdown",
   "metadata": {},
   "source": [
    "### Download necessary packages"
   ]
  },
  {
   "cell_type": "code",
   "execution_count": 6,
   "metadata": {},
   "outputs": [],
   "source": [
    "from importlib.resources import path\n",
    "from google.cloud import vision\n",
    "import requests, json, os, io, openai"
   ]
  },
  {
   "attachments": {},
   "cell_type": "markdown",
   "metadata": {},
   "source": [
    "load the credentials from the json file"
   ]
  },
  {
   "cell_type": "code",
   "execution_count": 8,
   "metadata": {},
   "outputs": [],
   "source": [
    "os.environ['GOOGLE_APPLICATION_CREDENTIALS'] = r'macro-outpost-393714-a5aaeaa4013e.json'\n",
    "\n",
    "openai.api_key = \"sk-\""
   ]
  },
  {
   "attachments": {},
   "cell_type": "markdown",
   "metadata": {},
   "source": [
    "### Authenticate"
   ]
  },
  {
   "cell_type": "code",
   "execution_count": 9,
   "metadata": {},
   "outputs": [],
   "source": [
    "client = vision.ImageAnnotatorClient()"
   ]
  },
  {
   "attachments": {},
   "cell_type": "markdown",
   "metadata": {},
   "source": [
    "prepare image"
   ]
  },
  {
   "cell_type": "code",
   "execution_count": 10,
   "metadata": {},
   "outputs": [],
   "source": [
    "def prepare_image(image_path):\n",
    "    try:\n",
    "        with io.open(image_path, 'rb') as image_file:\n",
    "            content = image_file.read()\n",
    "        image = vision.Image(content=content)\n",
    "        return image\n",
    "    except Exception as e:\n",
    "        print(e)\n",
    "        return None"
   ]
  },
  {
   "attachments": {},
   "cell_type": "markdown",
   "metadata": {},
   "source": [
    "object detection"
   ]
  },
  {
   "cell_type": "code",
   "execution_count": 11,
   "metadata": {},
   "outputs": [],
   "source": [
    "def detect_object_name(image_path):\n",
    "    image = prepare_image(image_path)\n",
    "    objects = client.object_localization(image=image).localized_object_annotations\n",
    "    if objects:\n",
    "        result = []\n",
    "        for object_ in objects:\n",
    "            result.append(object_.name)\n",
    "        return result\n",
    "    else:\n",
    "        return None"
   ]
  },
  {
   "cell_type": "code",
   "execution_count": 12,
   "metadata": {},
   "outputs": [
    {
     "data": {
      "text/plain": [
       "'Box'"
      ]
     },
     "execution_count": 12,
     "metadata": {},
     "output_type": "execute_result"
    }
   ],
   "source": [
    "detect_object_name('i.jpeg')[0]"
   ]
  },
  {
   "attachments": {},
   "cell_type": "markdown",
   "metadata": {},
   "source": [
    "Generate the output"
   ]
  },
  {
   "cell_type": "code",
   "execution_count": 13,
   "metadata": {},
   "outputs": [],
   "source": [
    "def generate_recycling_response(object_name):\n",
    "    # object_name = detect_object_name(image_path)[0]\n",
    "\n",
    "    URL = \"https://api.openai.com/v1/chat/completions\"\n",
    "\n",
    "    payload = {\n",
    "        \"model\": \"gpt-3.5-turbo\",\n",
    "        \"messages\": [{\"role\": \"user\", \"content\": f\"Summarize in 50 words the best way to recycle {object_name}?\"}],\n",
    "        \"temperature\" : 1.0,\n",
    "        \"top_p\":1.0,\n",
    "        \"n\" : 1,\n",
    "        \"stream\": False,\n",
    "        \"presence_penalty\":0,\n",
    "        \"frequency_penalty\":0,\n",
    "        }\n",
    "\n",
    "    headers = {\n",
    "        \"Content-Type\": \"application/json\",\n",
    "        \"Authorization\": f\"Bearer {openai.api_key}\"\n",
    "    }\n",
    "\n",
    "    response = requests.post(URL, headers=headers, json=payload, stream=False)\n",
    "    # Check if the response status code is 200 (OK)\n",
    "    if response.status_code == 200:\n",
    "    # Parse the response JSON\n",
    "        parsed_response = json.loads(response.text)\n",
    "\n",
    "    # Extract and beautify the content\n",
    "        content = parsed_response['choices'][0]['message']['content']\n",
    "        beautified_response = content.replace(\"\\n\\n\", \"\\n\")\n",
    "\n",
    "    # Print the beautified response\n",
    "        return beautified_response\n",
    "    else:\n",
    "        return f\"Error: Kindly retake the picture.\""
   ]
  },
  {
   "cell_type": "code",
   "execution_count": 14,
   "metadata": {},
   "outputs": [
    {
     "data": {
      "text/plain": [
       "'The best way to recycle a box is to first check if it can be reused or repurposed. If not, flatten it to save space and remove any non-recyclable materials. Ensure it is clean and free of contaminants, then place it in the appropriate recycling bin or take it to a recycling center.'"
      ]
     },
     "execution_count": 14,
     "metadata": {},
     "output_type": "execute_result"
    }
   ],
   "source": [
    "object_name = detect_object_name('i.jpeg')[0]\n",
    "generate_recycling_response(object_name)"
   ]
  },
  {
   "cell_type": "code",
   "execution_count": null,
   "metadata": {},
   "outputs": [],
   "source": []
  }
 ],
 "metadata": {
  "kernelspec": {
   "display_name": ".venv",
   "language": "python",
   "name": "python3"
  },
  "language_info": {
   "codemirror_mode": {
    "name": "ipython",
    "version": 3
   },
   "file_extension": ".py",
   "mimetype": "text/x-python",
   "name": "python",
   "nbconvert_exporter": "python",
   "pygments_lexer": "ipython3",
   "version": "3.9.4"
  },
  "orig_nbformat": 4
 },
 "nbformat": 4,
 "nbformat_minor": 2
}
